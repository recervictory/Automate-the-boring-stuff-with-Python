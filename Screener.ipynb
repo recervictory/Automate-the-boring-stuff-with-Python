{
 "cells": [
  {
   "cell_type": "code",
   "execution_count": 2,
   "metadata": {},
   "outputs": [],
   "source": [
    "!source venv/bin/activate"
   ]
  },
  {
   "cell_type": "code",
   "execution_count": 2,
   "metadata": {},
   "outputs": [
    {
     "name": "stdout",
     "output_type": "stream",
     "text": [
      "Requirement already satisfied: selenium in /usr/local/python/3.10.8/lib/python3.10/site-packages (4.11.2)\n",
      "Requirement already satisfied: urllib3[socks]<3,>=1.26 in /home/codespace/.local/lib/python3.10/site-packages (from selenium) (2.0.4)\n",
      "Requirement already satisfied: trio~=0.17 in /usr/local/python/3.10.8/lib/python3.10/site-packages (from selenium) (0.22.2)\n",
      "Requirement already satisfied: trio-websocket~=0.9 in /usr/local/python/3.10.8/lib/python3.10/site-packages (from selenium) (0.10.3)\n",
      "Requirement already satisfied: certifi>=2021.10.8 in /home/codespace/.local/lib/python3.10/site-packages (from selenium) (2023.7.22)\n",
      "Requirement already satisfied: attrs>=20.1.0 in /home/codespace/.local/lib/python3.10/site-packages (from trio~=0.17->selenium) (23.1.0)\n",
      "Requirement already satisfied: sortedcontainers in /usr/local/python/3.10.8/lib/python3.10/site-packages (from trio~=0.17->selenium) (2.4.0)\n",
      "Requirement already satisfied: idna in /home/codespace/.local/lib/python3.10/site-packages (from trio~=0.17->selenium) (3.4)\n",
      "Requirement already satisfied: outcome in /usr/local/python/3.10.8/lib/python3.10/site-packages (from trio~=0.17->selenium) (1.2.0)\n",
      "Requirement already satisfied: sniffio in /home/codespace/.local/lib/python3.10/site-packages (from trio~=0.17->selenium) (1.3.0)\n",
      "Requirement already satisfied: exceptiongroup>=1.0.0rc9 in /home/codespace/.local/lib/python3.10/site-packages (from trio~=0.17->selenium) (1.1.3)\n",
      "Requirement already satisfied: wsproto>=0.14 in /usr/local/python/3.10.8/lib/python3.10/site-packages (from trio-websocket~=0.9->selenium) (1.2.0)\n",
      "Requirement already satisfied: pysocks!=1.5.7,<2.0,>=1.5.6 in /usr/local/python/3.10.8/lib/python3.10/site-packages (from urllib3[socks]<3,>=1.26->selenium) (1.7.1)\n",
      "Requirement already satisfied: h11<1,>=0.9.0 in /usr/local/python/3.10.8/lib/python3.10/site-packages (from wsproto>=0.14->trio-websocket~=0.9->selenium) (0.14.0)\n"
     ]
    }
   ],
   "source": [
    "!pip install selenium"
   ]
  },
  {
   "cell_type": "code",
   "execution_count": 6,
   "metadata": {},
   "outputs": [],
   "source": [
    "import pandas as pd\n",
    "import numpy as np\n",
    "from bs4 import BeautifulSoup\n",
    "import os\n",
    "from selenium import webdriver\n",
    "from selenium .webdriver.chrome.options import Options\n",
    "import time"
   ]
  },
  {
   "cell_type": "code",
   "execution_count": 4,
   "metadata": {},
   "outputs": [
    {
     "ename": "TypeError",
     "evalue": "WebDriver.__init__() got an unexpected keyword argument 'executable_path'",
     "output_type": "error",
     "traceback": [
      "\u001b[0;31m---------------------------------------------------------------------------\u001b[0m",
      "\u001b[0;31mTypeError\u001b[0m                                 Traceback (most recent call last)",
      "Cell \u001b[0;32mIn[4], line 4\u001b[0m\n\u001b[1;32m      2\u001b[0m opts\u001b[39m.\u001b[39madd_argument(\u001b[39m\"\u001b[39m\u001b[39m --headless\u001b[39m\u001b[39m\"\u001b[39m)\n\u001b[1;32m      3\u001b[0m chrome_driver \u001b[39m=\u001b[39m os\u001b[39m.\u001b[39mgetcwd() \u001b[39m+\u001b[39m \u001b[39mr\u001b[39m\u001b[39m'\u001b[39m\u001b[39m\\\u001b[39m\u001b[39mdriver\u001b[39m\u001b[39m\\\u001b[39m\u001b[39mchromedriver.exe\u001b[39m\u001b[39m'\u001b[39m\n\u001b[0;32m----> 4\u001b[0m driver \u001b[39m=\u001b[39m webdriver\u001b[39m.\u001b[39;49mChrome(options\u001b[39m=\u001b[39;49mopts, executable_path\u001b[39m=\u001b[39;49m chrome_driver)\n",
      "\u001b[0;31mTypeError\u001b[0m: WebDriver.__init__() got an unexpected keyword argument 'executable_path'"
     ]
    }
   ],
   "source": [
    "opts = Options()\n",
    "opts.add_argument(\" --headless\")\n",
    "chrome_driver = os.getcwd() + r'\\driver\\chromedriver.exe'\n",
    "driver = webdriver.Chrome(options=opts, executable_path= chrome_driver)\n"
   ]
  },
  {
   "cell_type": "code",
   "execution_count": 3,
   "metadata": {},
   "outputs": [],
   "source": [
    "from selenium import webdriver\n",
    "from selenium.webdriver.chrome.options import Options\n",
    "import os\n",
    "\n",
    "opts = Options()\n",
    "opts.add_argument(\"--headless\")\n",
    "chrome_driver = os.path.join(os.getcwd(), 'driver', 'chromedriver.exe')\n",
    "\n",
    "# Set the executable path in the options\n",
    "opts.binary_location = chrome_driver\n",
    "\n",
    "driver = webdriver.Chrome(options=opts)\n"
   ]
  },
  {
   "cell_type": "code",
   "execution_count": 4,
   "metadata": {},
   "outputs": [],
   "source": [
    "driver.get(\"https://www.screener.in/company/MAANALU/\")"
   ]
  },
  {
   "cell_type": "code",
   "execution_count": 7,
   "metadata": {},
   "outputs": [],
   "source": [
    "soup_file  = driver.page_source\n",
    "soup = BeautifulSoup(soup_file)\n",
    "#soup"
   ]
  },
  {
   "cell_type": "code",
   "execution_count": 8,
   "metadata": {},
   "outputs": [],
   "source": [
    "section_ids = []\n",
    "sections = soup.find_all('section')\n",
    "\n",
    "for section in sections:\n",
    "    id = section.get('id')\n",
    "    if id:\n",
    "        section_ids.append(id)\n"
   ]
  },
  {
   "cell_type": "code",
   "execution_count": 9,
   "metadata": {},
   "outputs": [
    {
     "data": {
      "text/plain": [
       "['chart',\n",
       " 'analysis',\n",
       " 'peers',\n",
       " 'quarters',\n",
       " 'profit-loss',\n",
       " 'balance-sheet',\n",
       " 'cash-flow',\n",
       " 'ratios',\n",
       " 'shareholding',\n",
       " 'documents']"
      ]
     },
     "execution_count": 9,
     "metadata": {},
     "output_type": "execute_result"
    }
   ],
   "source": [
    "section_ids"
   ]
  },
  {
   "cell_type": "code",
   "execution_count": 8,
   "metadata": {},
   "outputs": [
    {
     "name": "stdout",
     "output_type": "stream",
     "text": [
      "About: Maan Aluminium Limited was incorporated in 1989, it is engaged in the business of manufacturing & trading aluminium profiles, aluminium ingots, aluminium billets etc. and other related activities. Currently, Maan is a standalone dealer of Aluminium ingots and Billets for Hindalco Industries Ltd. for North and South India. The company is also involved in the scrap trade for non-ferrous metals. They look to trade in Taint Tabor, Tread, Talk, Twitch, Tense and Zorba. [1][2][3]\n",
      "Company Ratios:\n",
      "Market Cap: ₹\n",
      "    \n",
      "    349\n",
      "    \n",
      "      Cr.\n",
      "Current Price: ₹\n",
      "    \n",
      "    64.4\n",
      "High / Low: ₹ 98.0 / 33.1\n",
      "Stock P/E: 6.74\n",
      "Book Value: ₹\n",
      "    \n",
      "    24.1\n",
      "Dividend Yield: 1.16\n",
      "    \n",
      "      %\n",
      "ROCE: 42.8\n",
      "    \n",
      "      %\n",
      "ROE: 46.6\n",
      "    \n",
      "      %\n",
      "Face Value: ₹\n",
      "    \n",
      "    5.00\n"
     ]
    }
   ],
   "source": [
    "company_profile_table = soup.find('div', class_='company-profile')\n",
    "about_text = company_profile_table.find('div', class_='sub show-more-box about').text.strip()\n",
    "\n",
    "# Extract data from the company-ratios table\n",
    "company_ratios_table = soup.find('div', class_='company-ratios')\n",
    "ratios_list = company_ratios_table.find('ul', id='top-ratios')\n",
    "ratios = ratios_list.find_all('li', class_='flex')\n",
    "\n",
    "# Process and print the extracted data\n",
    "print(\"About:\", about_text)\n",
    "print(\"Company Ratios:\")\n",
    "for ratio in ratios:\n",
    "    name = ratio.find('span', class_='name').text.strip()\n",
    "    value = ratio.find('span', class_='nowrap value').text.strip()\n",
    "    print(f\"{name}: {value}\")"
   ]
  },
  {
   "cell_type": "code",
   "execution_count": null,
   "metadata": {},
   "outputs": [],
   "source": []
  }
 ],
 "metadata": {
  "interpreter": {
   "hash": "7dae6437c12b1d87f00e0e10a4bd22be66a3b8ec05fb1161d95372f28c39fa9e"
  },
  "kernelspec": {
   "display_name": "Python 3.8.8 64-bit ('base': conda)",
   "language": "python",
   "name": "python3"
  },
  "language_info": {
   "codemirror_mode": {
    "name": "ipython",
    "version": 3
   },
   "file_extension": ".py",
   "mimetype": "text/x-python",
   "name": "python",
   "nbconvert_exporter": "python",
   "pygments_lexer": "ipython3",
   "version": "3.10.8"
  },
  "orig_nbformat": 4
 },
 "nbformat": 4,
 "nbformat_minor": 2
}
